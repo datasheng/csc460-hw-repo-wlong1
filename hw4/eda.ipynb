{
 "cells": [
  {
   "cell_type": "markdown",
   "id": "bc3c1151",
   "metadata": {},
   "source": [
    "Data source: https://www.kaggle.com/datasets/aayushmishra1512/twitchdata"
   ]
  },
  {
   "cell_type": "code",
   "execution_count": 16,
   "id": "390608b5",
   "metadata": {},
   "outputs": [],
   "source": [
    "import pandas as pd\n",
    "import numpy as np\n",
    "import matplotlib as plt"
   ]
  },
  {
   "cell_type": "code",
   "execution_count": 2,
   "id": "2cfc83c0",
   "metadata": {},
   "outputs": [
    {
     "name": "stdout",
     "output_type": "stream",
     "text": [
      "    Channel  Watch time(Minutes)  Stream time(minutes)  Peak viewers  \\\n",
      "0     xQcOW           6196161750                215250        222720   \n",
      "1  summit1g           6091677300                211845        310998   \n",
      "2    Gaules           5644590915                515280        387315   \n",
      "3  ESL_CSGO           3970318140                517740        300575   \n",
      "4      Tfue           3671000070                123660        285644   \n",
      "\n",
      "   Average viewers  Followers  Followers gained  Views gained  Partnered  \\\n",
      "0            27716    3246298           1734810      93036735       True   \n",
      "1            25610    5310163           1370184      89705964       True   \n",
      "2            10976    1767635           1023779     102611607       True   \n",
      "3             7714    3944850            703986     106546942       True   \n",
      "4            29602    8938903           2068424      78998587       True   \n",
      "\n",
      "   Mature    Language  \n",
      "0   False     English  \n",
      "1   False     English  \n",
      "2    True  Portuguese  \n",
      "3   False     English  \n",
      "4   False     English  \n"
     ]
    }
   ],
   "source": [
    "filename = 'twitchdata.csv'\n",
    "data = pd.read_csv(filename)\n",
    "print(data.head())"
   ]
  },
  {
   "cell_type": "code",
   "execution_count": 25,
   "id": "daa31efa",
   "metadata": {},
   "outputs": [
    {
     "name": "stdout",
     "output_type": "stream",
     "text": [
      "['Watch time(Minutes)', 'Stream time(minutes)', 'Peak viewers', 'Average viewers', 'Followers', 'Followers gained', 'Views gained']\n",
      "['Channel', 'Partnered', 'Mature', 'Language']\n"
     ]
    }
   ],
   "source": [
    "numeric = data.select_dtypes(include = 'int64').columns.to_list()\n",
    "print(numeric)\n",
    "categoric = data.select_dtypes(exclude = 'int64').columns.to_list()\n",
    "print(categoric)"
   ]
  }
 ],
 "metadata": {
  "kernelspec": {
   "display_name": "Python 3",
   "language": "python",
   "name": "python3"
  },
  "language_info": {
   "codemirror_mode": {
    "name": "ipython",
    "version": 3
   },
   "file_extension": ".py",
   "mimetype": "text/x-python",
   "name": "python",
   "nbconvert_exporter": "python",
   "pygments_lexer": "ipython3",
   "version": "3.12.6"
  }
 },
 "nbformat": 4,
 "nbformat_minor": 5
}
