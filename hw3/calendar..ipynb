{
 "cells": [
  {
   "cell_type": "markdown",
   "id": "debf14a7",
   "metadata": {},
   "source": [
    "Use github classroom. Create a repo for you to use. Create an ipython notebook in the repo and commit it. I want you to keep committing it as you edit it so I can see it build up. Your mission is to scrape the cuny Fall 2021 academic calendar site using the requests library, beautiful soup and pandas. You should wind up with a pandas data frame where the index column is a python date. There should be a column for “day of the week” with variable label dow and a column called text with the explanation."
   ]
  },
  {
   "cell_type": "code",
   "execution_count": null,
   "id": "25602f3a",
   "metadata": {},
   "outputs": [],
   "source": [
    "import pandas as pd\n",
    "import requests\n",
    "from bs4 import BeautifulSoup"
   ]
  },
  {
   "cell_type": "code",
   "execution_count": null,
   "id": "9899141d",
   "metadata": {},
   "outputs": [],
   "source": [
    "\"\"\"\n",
    "https://www.ccny.cuny.edu/registrar/fall\n",
    "\n",
    "Structure of the calendar site:\n",
    "<tbody> - contains the table\n",
    "<tr> - table row\n",
    "    <td><p> contents </p></td>  - Date\n",
    "    <td>                        - Weekday\n",
    "    <td>                        - Description\n",
    "\n",
    "<p> contents may contain <strong></strong>\n",
    "No class/ids in the table, need to cover by index\n",
    "\n",
    "\"\"\""
   ]
  },
  {
   "cell_type": "code",
   "execution_count": 8,
   "id": "38138748",
   "metadata": {},
   "outputs": [],
   "source": [
    "url = 'https://www.ccny.cuny.edu/registrar/fall'\n",
    "response = requests.request(url=url, method='get')\n",
    "soup = BeautifulSoup(response.text)"
   ]
  },
  {
   "cell_type": "code",
   "execution_count": 12,
   "id": "033d2d86",
   "metadata": {},
   "outputs": [],
   "source": [
    "df = pd.DataFrame(columns=['date', 'day of the week', 'text'])"
   ]
  },
  {
   "cell_type": "code",
   "execution_count": 66,
   "id": "36a4b3a6",
   "metadata": {},
   "outputs": [],
   "source": [
    "table = soup.find('tbody')\n",
    "\n",
    "for rows in table.find_all('tr'):\n",
    "    items = rows.find_all('td')\n",
    "    row = []\n",
    "    for item in items:\n",
    "        # str.strip() doesn't work...\n",
    "        line = item.text.replace('\\n', '').replace('\\t', '')\n",
    "        row.append(line)\n",
    "    df.loc[-1] = row\n",
    "    df.index = df.index + 1\n",
    "    df = df.sort_index()\n"
   ]
  },
  {
   "cell_type": "code",
   "execution_count": 67,
   "id": "ad26f1df",
   "metadata": {},
   "outputs": [
    {
     "name": "stdout",
     "output_type": "stream",
     "text": [
      "               date    day of the week  \\\n",
      "0   January 1, 2022           Saturday   \n",
      "1       December 31             Friday   \n",
      "2       December 28            Tuesday   \n",
      "3       December 27             Monday   \n",
      "4  December 24 - 25  Friday - Saturday   \n",
      "\n",
      "                                              text  \n",
      "0  College Closed;Fall 2021 Degree Conferral Date;  \n",
      "1                                   College Closed  \n",
      "2    Final Grade Submission Deadline for Fall 2021  \n",
      "3                                   College Closed  \n",
      "4                                   College Closed  \n"
     ]
    }
   ],
   "source": [
    "print(df.head())"
   ]
  }
 ],
 "metadata": {
  "kernelspec": {
   "display_name": "Python 3",
   "language": "python",
   "name": "python3"
  },
  "language_info": {
   "codemirror_mode": {
    "name": "ipython",
    "version": 3
   },
   "file_extension": ".py",
   "mimetype": "text/x-python",
   "name": "python",
   "nbconvert_exporter": "python",
   "pygments_lexer": "ipython3",
   "version": "3.12.6"
  }
 },
 "nbformat": 4,
 "nbformat_minor": 5
}
