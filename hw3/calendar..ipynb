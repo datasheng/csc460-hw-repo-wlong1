{
 "cells": [
  {
   "cell_type": "code",
   "execution_count": null,
   "id": "25602f3a",
   "metadata": {},
   "outputs": [],
   "source": [
    "import pandas as pd\n",
    "import requests\n",
    "from bs4 import BeautifulSoup"
   ]
  },
  {
   "cell_type": "code",
   "execution_count": null,
   "id": "9899141d",
   "metadata": {},
   "outputs": [],
   "source": [
    "\"\"\"\n",
    "https://www.ccny.cuny.edu/registrar/fall\n",
    "\n",
    "Structure of the calendar site:\n",
    "<tbody> - contains the table\n",
    "<tr> - table row\n",
    "    <td><p> contents </p></td>  - Date\n",
    "    <td>                        - Weekday\n",
    "    <td>                        - Description\n",
    "\n",
    "<p> contents may contain <strong></strong>\n",
    "No class/ids in the table, need to cover by index\n",
    "\n",
    "\"\"\""
   ]
  }
 ],
 "metadata": {
  "kernelspec": {
   "display_name": "Python 3",
   "language": "python",
   "name": "python3"
  },
  "language_info": {
   "name": "python",
   "version": "3.12.6"
  }
 },
 "nbformat": 4,
 "nbformat_minor": 5
}
