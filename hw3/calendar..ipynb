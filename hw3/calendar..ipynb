{
 "cells": [
  {
   "cell_type": "markdown",
   "id": "debf14a7",
   "metadata": {},
   "source": [
    "Use github classroom. Create a repo for you to use. Create an ipython notebook in the repo and commit it. I want you to keep committing it as you edit it so I can see it build up. Your mission is to scrape the cuny Fall 2021 academic calendar site using the requests library, beautiful soup and pandas. You should wind up with a pandas data frame where the index column is a python date. There should be a column for “day of the week” with variable label dow and a column called text with the explanation."
   ]
  },
  {
   "cell_type": "code",
   "execution_count": null,
   "id": "25602f3a",
   "metadata": {},
   "outputs": [],
   "source": [
    "import pandas as pd\n",
    "import requests\n",
    "from bs4 import BeautifulSoup"
   ]
  },
  {
   "cell_type": "code",
   "execution_count": null,
   "id": "9899141d",
   "metadata": {},
   "outputs": [],
   "source": [
    "\"\"\"\n",
    "https://www.ccny.cuny.edu/registrar/fall\n",
    "\n",
    "Structure of the calendar site:\n",
    "<tbody> - contains the table\n",
    "<tr> - table row\n",
    "    <td><p> contents </p></td>  - Date\n",
    "    <td>                        - Weekday\n",
    "    <td>                        - Description\n",
    "\n",
    "<p> contents may contain <strong></strong>\n",
    "No class/ids in the table, need to cover by index\n",
    "\n",
    "\"\"\""
   ]
  },
  {
   "cell_type": "code",
   "execution_count": 8,
   "id": "38138748",
   "metadata": {},
   "outputs": [],
   "source": [
    "url = 'https://www.ccny.cuny.edu/registrar/fall'\n",
    "response = requests.request(url=url, method='get')\n",
    "soup = BeautifulSoup(response.text)"
   ]
  },
  {
   "cell_type": "code",
   "execution_count": 12,
   "id": "033d2d86",
   "metadata": {},
   "outputs": [],
   "source": [
    "df = pd.DataFrame(columns=['date', 'day of the week', 'text'])"
   ]
  },
  {
   "cell_type": "code",
   "execution_count": 79,
   "id": "36a4b3a6",
   "metadata": {},
   "outputs": [],
   "source": [
    "table = soup.find('tbody')\n",
    "df = []\n",
    "for rows in table.find_all('tr'):\n",
    "    items = rows.find_all('td')\n",
    "    row = []\n",
    "    for item in items:\n",
    "        # str.strip() doesn't work...\n",
    "        line = item.text.replace('\\n', '').replace('\\t', '')\n",
    "        row.append(line)\n",
    "    df.append(row)\n",
    "df = pd.DataFrame(df, columns=['date', 'day of the week', 'text'])\n"
   ]
  },
  {
   "cell_type": "code",
   "execution_count": 80,
   "id": "ad26f1df",
   "metadata": {},
   "outputs": [
    {
     "name": "stdout",
     "output_type": "stream",
     "text": [
      "                 date       day of the week  \\\n",
      "0           August 01                Sunday   \n",
      "1           August 18             Wednesday   \n",
      "2           August 24               Tuesday   \n",
      "3           August 25             Wednesday   \n",
      "4      August 25 - 31   Wednesday - Tuesday   \n",
      "5           August 26              Thursday   \n",
      "6           August 28              Saturday   \n",
      "7           August 31               Tuesday   \n",
      "8        September 01             Wednesday   \n",
      "9   September 03 - 08    Friday - Wednesday   \n",
      "10       September 06                Monday   \n",
      "11       September 09              Thursday   \n",
      "12       September 14               Tuesday   \n",
      "13       September 15             Wednesday   \n",
      "14  September 15 - 16  Wednesday - Thursday   \n",
      "15       September 23              Thursday   \n",
      "16      September 24                 Friday   \n",
      "17         October 01                Friday   \n",
      "18         October 08                Friday   \n",
      "19         October 11                Monday   \n",
      "20        November 01                Monday   \n",
      "21        November 02               Tuesday   \n",
      "22        November 04              Thursday   \n",
      "23        November 06              Saturday   \n",
      "24        November 23               Tuesday   \n",
      "25   November 25 - 28     Thursday - Sunday   \n",
      "26        December 11              Saturday   \n",
      "27        December 13                Monday   \n",
      "28        December 14               Tuesday   \n",
      "29   December 15 - 21   Wednesday - Tuesday   \n",
      "30        December 21               Tuesday   \n",
      "31   December 24 - 25     Friday - Saturday   \n",
      "32        December 27                Monday   \n",
      "33        December 28               Tuesday   \n",
      "34        December 31                Friday   \n",
      "35    January 1, 2022              Saturday   \n",
      "\n",
      "                                                 text  \n",
      "0   Application for degree for January and Februar...  \n",
      "1                  Last day to apply for Study Abroad  \n",
      "2   Last day of Registration;Last day to file ePer...  \n",
      "3   Start of Fall Term;Classes begin;Initial Regis...  \n",
      "4           Change of program period; late fees apply  \n",
      "5                      Last day for Independent Study  \n",
      "6                       First day of Saturday Classes  \n",
      "7   Last day to add a class to an existing enrollm...  \n",
      "8   Verification of Enrollment rosters available t...  \n",
      "9                                No classes scheduled  \n",
      "10    College Closed;Last day for 50% tuition refund;  \n",
      "11                               Freshman Convocation  \n",
      "12  Last day for 25% tuition refund;Census date;La...  \n",
      "13  Assignment of 'WN' grades for non-attendance;C...  \n",
      "14                               No classes scheduled  \n",
      "15  Last day to submit proof of immunization for N...  \n",
      "16  Assignment of 'WA' grades for immunization non...  \n",
      "17  Advising month begins for Spring and Winter en...  \n",
      "18  Deadline for filing application for degree for...  \n",
      "19                                     College Closed  \n",
      "20  'INC' grades for Spring 2021 and Winter 2021 f...  \n",
      "21  Registration appointments for Winter and Sprin...  \n",
      "22                   Last day to file for P/NC option  \n",
      "23                               60% Date of the term  \n",
      "24  'INC' grades for Summer 2021 for Undergraduate...  \n",
      "25                                     College Closed  \n",
      "26                       Last day of Saturday Classes  \n",
      "27  Course Withdrawal period ends (Last day to wit...  \n",
      "28                                        Reading Day  \n",
      "29                                 Final Examinations  \n",
      "30                                        End of Term  \n",
      "31                                     College Closed  \n",
      "32                                     College Closed  \n",
      "33      Final Grade Submission Deadline for Fall 2021  \n",
      "34                                     College Closed  \n",
      "35    College Closed;Fall 2021 Degree Conferral Date;  \n"
     ]
    }
   ],
   "source": [
    "print(df)"
   ]
  }
 ],
 "metadata": {
  "kernelspec": {
   "display_name": "Python 3",
   "language": "python",
   "name": "python3"
  },
  "language_info": {
   "codemirror_mode": {
    "name": "ipython",
    "version": 3
   },
   "file_extension": ".py",
   "mimetype": "text/x-python",
   "name": "python",
   "nbconvert_exporter": "python",
   "pygments_lexer": "ipython3",
   "version": "3.12.6"
  }
 },
 "nbformat": 4,
 "nbformat_minor": 5
}
